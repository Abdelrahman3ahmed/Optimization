{
 "cells": [
  {
   "cell_type": "markdown",
   "metadata": {},
   "source": [
    "# Importing Libaries"
   ]
  },
  {
   "cell_type": "code",
   "execution_count": 1,
   "metadata": {},
   "outputs": [],
   "source": [
    "import numpy as np\n",
    "import matplotlib.pyplot as plt\n",
    "import sklearn as sk\n",
    "from sklearn.metrics import r2_score"
   ]
  },
  {
   "cell_type": "markdown",
   "metadata": {},
   "source": [
    "# Read and Explore Data"
   ]
  },
  {
   "cell_type": "code",
   "execution_count": 2,
   "metadata": {},
   "outputs": [
    {
     "data": {
      "image/png": "[encoded data removed]",
      "text/plain": [
       "<Figure size 432x288 with 1 Axes>"
      ]
     },
     "metadata": {
      "needs_background": "light"
     },
     "output_type": "display_data"
    }
   ],
   "source": [
    "Data_points = np.genfromtxt(\"MultipleLR.csv\" ,  delimiter= ',')\n",
    "X_Data = Data_points[:,0:3]\n",
    "Y_Data = Data_points[:,3]\n",
    "X_Data , Y_Data = sk.utils.shuffle(X_Data , Y_Data)\n",
    "plt.scatter(X_Data[:,0] , Y_Data)\n",
    "plt.show()"
   ]
  },
  {
   "cell_type": "code",
   "execution_count": 5,
   "metadata": {},
   "outputs": [
    {
     "name": "stdout",
     "output_type": "stream",
     "text": [
      "[0.67248295 0.67248295 0.67248295 0.67248295]\n"
     ]
    }
   ],
   "source": [
    "feture = np.concatenate((np.ones(len(X_Data)).reshape( len(X_Data), 1) \n",
    "                         , X_Data.reshape(len(X_Data) , 3))  , axis = 1)\n",
    "theta = np.array([0 , 0 ,0 , 0])\n",
    "Y= np.dot(theta ,feture.T)\n",
    "alpha = 0.00001\n",
    "Epoch = len(X_Data)\n",
    "\n",
    "Jtheta = []\n",
    "for i in range(Epoch):\n",
    "    Y= np.dot(theta ,feture.T)\n",
    "    Jtheta.append((alpha/2)*(np.sum(np.square(np.dot( (Y-Y_Data) , feture)) ,axis = 0)/Epoch))\n",
    "    theta = theta - alpha*(np.sum(np.dot( (Y-Y_Data) , feture) ,axis = 0)/Epoch)\n",
    "print(theta)    "
   ]
  },
  {
   "cell_type": "markdown",
   "metadata": {},
   "source": [
    "# Data Score"
   ]
  },
  {
   "cell_type": "code",
   "execution_count": 6,
   "metadata": {},
   "outputs": [
    {
     "name": "stdout",
     "output_type": "stream",
     "text": [
      "0.9773498199974312\n"
     ]
    }
   ],
   "source": [
    "Y= np.dot(theta ,feture.T)\n",
    "print(r2_score(Y , Y_Data))"
   ]
  },
  {
   "cell_type": "markdown",
   "metadata": {},
   "source": [
    "# Batch Momentum based"
   ]
  },
  {
   "cell_type": "code",
   "execution_count": 18,
   "metadata": {},
   "outputs": [
    {
     "name": "stdout",
     "output_type": "stream",
     "text": [
      "[0.67248295 0.67248295 0.67248295 0.67248295]\n"
     ]
    }
   ],
   "source": [
    "theta = np.array([0 , 0 ,0 , 0])\n",
    "Y= np.dot(theta ,feture.T)\n",
    "alpha = 0.00001\n",
    "Epoch = len(X_Data)\n",
    "\n",
    "Gamma = 0.9\n",
    "Vt = 0\n",
    "Theta_Tmp = 0\n",
    "for i in range(Epoch):\n",
    "    Y= np.dot(theta ,feture.T)\n",
    "    Theta_Tmp = theta - Gamma*Vt\n",
    "    theta = theta - alpha*(np.sum(np.dot( (Y-Y_Data) , feture) ,axis = 0)/Epoch)\n",
    "    Vt = Gamma*Vt + alpha*(np.sum(np.dot( (Y-Y_Data) , feture) ,axis = 0)/Epoch)\n",
    "    \n",
    "print(theta)   \n",
    "\n"
   ]
  },
  {
   "cell_type": "markdown",
   "metadata": {},
   "source": [
    "# Data Score"
   ]
  },
  {
   "cell_type": "code",
   "execution_count": 19,
   "metadata": {},
   "outputs": [
    {
     "name": "stdout",
     "output_type": "stream",
     "text": [
      "0.9773498199974312\n"
     ]
    }
   ],
   "source": [
    "Y= np.dot(theta ,feture.T)\n",
    "print(r2_score(Y , Y_Data))"
   ]
  },
  {
   "cell_type": "code",
   "execution_count": null,
   "metadata": {},
   "outputs": [],
   "source": []
  }
 ],
 "metadata": {
  "kernelspec": {
   "display_name": "Python 3",
   "language": "python",
   "name": "python3"
  },
  "language_info": {
   "codemirror_mode": {
    "name": "ipython",
    "version": 3
   },
   "file_extension": ".py",
   "mimetype": "text/x-python",
   "name": "python",
   "nbconvert_exporter": "python",
   "pygments_lexer": "ipython3",
   "version": "3.8.5"
  }
 },
 "nbformat": 4,
 "nbformat_minor": 4
}
